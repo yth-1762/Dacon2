{
 "cells": [
  {
   "cell_type": "code",
   "execution_count": 1,
   "metadata": {},
   "outputs": [],
   "source": [
    "import matplotlib.pyplot as plt\n",
    "import seaborn as sns\n",
    "import numpy as np\n",
    "import pandas as pd \n",
    "import koreanize_matplotlib"
   ]
  },
  {
   "cell_type": "code",
   "execution_count": 2,
   "metadata": {},
   "outputs": [],
   "source": [
    "train = pd.read_csv(\"./train.csv\", parse_dates=[\"일시\"])\n",
    "submit = pd.read_csv(\"./sample_submission.csv\")"
   ]
  },
  {
   "cell_type": "code",
   "execution_count": 3,
   "metadata": {},
   "outputs": [
    {
     "data": {
      "text/plain": [
       "pandas._libs.tslibs.timestamps.Timestamp"
      ]
     },
     "execution_count": 3,
     "metadata": {},
     "output_type": "execute_result"
    }
   ],
   "source": [
    "type(train[\"일시\"][1])"
   ]
  },
  {
   "cell_type": "code",
   "execution_count": 4,
   "metadata": {},
   "outputs": [],
   "source": [
    "# '일시'를 인덱스로 설정하고 빈도를 'D'로 설정\n",
    "train = train.set_index('일시')"
   ]
  },
  {
   "cell_type": "code",
   "execution_count": 5,
   "metadata": {},
   "outputs": [
    {
     "data": {
      "text/plain": [
       "최고기온        3\n",
       "최저기온        3\n",
       "일교차         4\n",
       "강수량     13861\n",
       "평균습도        0\n",
       "평균풍속        4\n",
       "일조합       118\n",
       "일사합      4862\n",
       "일조율       366\n",
       "평균기온        0\n",
       "dtype: int64"
      ]
     },
     "execution_count": 5,
     "metadata": {},
     "output_type": "execute_result"
    }
   ],
   "source": [
    "train.isnull().sum()"
   ]
  },
  {
   "cell_type": "code",
   "execution_count": 6,
   "metadata": {},
   "outputs": [
    {
     "data": {
      "text/html": [
       "<div>\n",
       "<style scoped>\n",
       "    .dataframe tbody tr th:only-of-type {\n",
       "        vertical-align: middle;\n",
       "    }\n",
       "\n",
       "    .dataframe tbody tr th {\n",
       "        vertical-align: top;\n",
       "    }\n",
       "\n",
       "    .dataframe thead th {\n",
       "        text-align: right;\n",
       "    }\n",
       "</style>\n",
       "<table border=\"1\" class=\"dataframe\">\n",
       "  <thead>\n",
       "    <tr style=\"text-align: right;\">\n",
       "      <th></th>\n",
       "      <th>최고기온</th>\n",
       "      <th>최저기온</th>\n",
       "      <th>일교차</th>\n",
       "      <th>강수량</th>\n",
       "      <th>평균습도</th>\n",
       "      <th>평균풍속</th>\n",
       "      <th>일조합</th>\n",
       "      <th>일사합</th>\n",
       "      <th>일조율</th>\n",
       "      <th>평균기온</th>\n",
       "    </tr>\n",
       "    <tr>\n",
       "      <th>일시</th>\n",
       "      <th></th>\n",
       "      <th></th>\n",
       "      <th></th>\n",
       "      <th></th>\n",
       "      <th></th>\n",
       "      <th></th>\n",
       "      <th></th>\n",
       "      <th></th>\n",
       "      <th></th>\n",
       "      <th></th>\n",
       "    </tr>\n",
       "  </thead>\n",
       "  <tbody>\n",
       "    <tr>\n",
       "      <th>1967-02-19</th>\n",
       "      <td>NaN</td>\n",
       "      <td>NaN</td>\n",
       "      <td>NaN</td>\n",
       "      <td>NaN</td>\n",
       "      <td>62.0</td>\n",
       "      <td>1.8</td>\n",
       "      <td>9.5</td>\n",
       "      <td>NaN</td>\n",
       "      <td>93.1</td>\n",
       "      <td>-1.7</td>\n",
       "    </tr>\n",
       "    <tr>\n",
       "      <th>1973-10-16</th>\n",
       "      <td>NaN</td>\n",
       "      <td>NaN</td>\n",
       "      <td>NaN</td>\n",
       "      <td>0.4</td>\n",
       "      <td>74.0</td>\n",
       "      <td>1.8</td>\n",
       "      <td>3.5</td>\n",
       "      <td>9.24</td>\n",
       "      <td>29.7</td>\n",
       "      <td>12.3</td>\n",
       "    </tr>\n",
       "    <tr>\n",
       "      <th>2017-10-12</th>\n",
       "      <td>NaN</td>\n",
       "      <td>8.8</td>\n",
       "      <td>NaN</td>\n",
       "      <td>NaN</td>\n",
       "      <td>71.0</td>\n",
       "      <td>2.0</td>\n",
       "      <td>NaN</td>\n",
       "      <td>2.23</td>\n",
       "      <td>0.0</td>\n",
       "      <td>11.4</td>\n",
       "    </tr>\n",
       "    <tr>\n",
       "      <th>2022-08-08</th>\n",
       "      <td>28.4</td>\n",
       "      <td>NaN</td>\n",
       "      <td>NaN</td>\n",
       "      <td>129.6</td>\n",
       "      <td>91.6</td>\n",
       "      <td>3.3</td>\n",
       "      <td>NaN</td>\n",
       "      <td>NaN</td>\n",
       "      <td>0.0</td>\n",
       "      <td>26.8</td>\n",
       "    </tr>\n",
       "  </tbody>\n",
       "</table>\n",
       "</div>"
      ],
      "text/plain": [
       "            최고기온  최저기온  일교차    강수량  평균습도  평균풍속  일조합   일사합   일조율  평균기온\n",
       "일시                                                                   \n",
       "1967-02-19   NaN   NaN  NaN    NaN  62.0   1.8  9.5   NaN  93.1  -1.7\n",
       "1973-10-16   NaN   NaN  NaN    0.4  74.0   1.8  3.5  9.24  29.7  12.3\n",
       "2017-10-12   NaN   8.8  NaN    NaN  71.0   2.0  NaN  2.23   0.0  11.4\n",
       "2022-08-08  28.4   NaN  NaN  129.6  91.6   3.3  NaN   NaN   0.0  26.8"
      ]
     },
     "execution_count": 6,
     "metadata": {},
     "output_type": "execute_result"
    }
   ],
   "source": [
    "condition1 = train['최고기온'].isna()\n",
    "condition2 = train['최저기온'].isna()\n",
    "condition3 = train['일교차'].isna()\n",
    "\n",
    "train[condition1 | condition2 | condition3]"
   ]
  },
  {
   "cell_type": "code",
   "execution_count": 7,
   "metadata": {},
   "outputs": [
    {
     "data": {
      "text/html": [
       "<div>\n",
       "<style scoped>\n",
       "    .dataframe tbody tr th:only-of-type {\n",
       "        vertical-align: middle;\n",
       "    }\n",
       "\n",
       "    .dataframe tbody tr th {\n",
       "        vertical-align: top;\n",
       "    }\n",
       "\n",
       "    .dataframe thead th {\n",
       "        text-align: right;\n",
       "    }\n",
       "</style>\n",
       "<table border=\"1\" class=\"dataframe\">\n",
       "  <thead>\n",
       "    <tr style=\"text-align: right;\">\n",
       "      <th></th>\n",
       "      <th>최고기온</th>\n",
       "      <th>최저기온</th>\n",
       "      <th>일교차</th>\n",
       "      <th>강수량</th>\n",
       "      <th>평균습도</th>\n",
       "      <th>평균풍속</th>\n",
       "      <th>일조합</th>\n",
       "      <th>일사합</th>\n",
       "      <th>일조율</th>\n",
       "      <th>평균기온</th>\n",
       "    </tr>\n",
       "    <tr>\n",
       "      <th>일시</th>\n",
       "      <th></th>\n",
       "      <th></th>\n",
       "      <th></th>\n",
       "      <th></th>\n",
       "      <th></th>\n",
       "      <th></th>\n",
       "      <th></th>\n",
       "      <th></th>\n",
       "      <th></th>\n",
       "      <th></th>\n",
       "    </tr>\n",
       "  </thead>\n",
       "  <tbody>\n",
       "    <tr>\n",
       "      <th>1967-02-19</th>\n",
       "      <td>3.25</td>\n",
       "      <td>-6.15</td>\n",
       "      <td>9.40</td>\n",
       "      <td>NaN</td>\n",
       "      <td>62.0</td>\n",
       "      <td>1.8</td>\n",
       "      <td>9.5</td>\n",
       "      <td>NaN</td>\n",
       "      <td>93.1</td>\n",
       "      <td>-1.7</td>\n",
       "    </tr>\n",
       "    <tr>\n",
       "      <th>1973-10-16</th>\n",
       "      <td>17.00</td>\n",
       "      <td>5.65</td>\n",
       "      <td>11.35</td>\n",
       "      <td>0.4</td>\n",
       "      <td>74.0</td>\n",
       "      <td>1.8</td>\n",
       "      <td>3.5</td>\n",
       "      <td>9.24</td>\n",
       "      <td>29.7</td>\n",
       "      <td>12.3</td>\n",
       "    </tr>\n",
       "    <tr>\n",
       "      <th>2017-10-12</th>\n",
       "      <td>20.30</td>\n",
       "      <td>8.80</td>\n",
       "      <td>11.50</td>\n",
       "      <td>NaN</td>\n",
       "      <td>71.0</td>\n",
       "      <td>2.0</td>\n",
       "      <td>NaN</td>\n",
       "      <td>2.23</td>\n",
       "      <td>0.0</td>\n",
       "      <td>11.4</td>\n",
       "    </tr>\n",
       "    <tr>\n",
       "      <th>2022-08-08</th>\n",
       "      <td>28.40</td>\n",
       "      <td>24.60</td>\n",
       "      <td>3.80</td>\n",
       "      <td>129.6</td>\n",
       "      <td>91.6</td>\n",
       "      <td>3.3</td>\n",
       "      <td>NaN</td>\n",
       "      <td>NaN</td>\n",
       "      <td>0.0</td>\n",
       "      <td>26.8</td>\n",
       "    </tr>\n",
       "  </tbody>\n",
       "</table>\n",
       "</div>"
      ],
      "text/plain": [
       "             최고기온   최저기온    일교차    강수량  평균습도  평균풍속  일조합   일사합   일조율  평균기온\n",
       "일시                                                                       \n",
       "1967-02-19   3.25  -6.15   9.40    NaN  62.0   1.8  9.5   NaN  93.1  -1.7\n",
       "1973-10-16  17.00   5.65  11.35    0.4  74.0   1.8  3.5  9.24  29.7  12.3\n",
       "2017-10-12  20.30   8.80  11.50    NaN  71.0   2.0  NaN  2.23   0.0  11.4\n",
       "2022-08-08  28.40  24.60   3.80  129.6  91.6   3.3  NaN   NaN   0.0  26.8"
      ]
     },
     "metadata": {},
     "output_type": "display_data"
    },
    {
     "name": "stdout",
     "output_type": "stream",
     "text": [
      "최고기온        0\n",
      "최저기온        0\n",
      "일교차         0\n",
      "강수량     13861\n",
      "평균습도        0\n",
      "평균풍속        4\n",
      "일조합       118\n",
      "일사합      4862\n",
      "일조율       366\n",
      "평균기온        0\n",
      "dtype: int64\n"
     ]
    }
   ],
   "source": [
    "# 최고기온과 최저기온의 결측값을 선형 보간법으로 채우기\n",
    "train['최고기온'] = train['최고기온'].interpolate(method='linear')\n",
    "train['최저기온'] = train['최저기온'].interpolate(method='linear')\n",
    "\n",
    "# '일교차'가 결측인 경우에 한하여 최고기온과 최저기온의 차로 '일교차' 계산\n",
    "train.loc[train['일교차'].isna(), '일교차'] = train['최고기온'] - train['최저기온']\n",
    "\n",
    "# 결측값 대체 확인\n",
    "display(train[condition1 | condition2 | condition3])\n",
    "print(train.isnull().sum())"
   ]
  },
  {
   "cell_type": "code",
   "execution_count": 8,
   "metadata": {},
   "outputs": [
    {
     "data": {
      "image/png": "[encoded data removed]",
      "text/plain": [
       "<Figure size 640x480 with 2 Axes>"
      ]
     },
     "metadata": {},
     "output_type": "display_data"
    }
   ],
   "source": [
    "import seaborn as sns\n",
    "sun_data = train[['일조합', '일사합', '일조율']]\n",
    "\n",
    "sns.heatmap(sun_data.corr(), annot = True)\n",
    "plt.show()"
   ]
  },
  {
   "cell_type": "code",
   "execution_count": 9,
   "metadata": {},
   "outputs": [
    {
     "data": {
      "text/html": [
       "<div>\n",
       "<style scoped>\n",
       "    .dataframe tbody tr th:only-of-type {\n",
       "        vertical-align: middle;\n",
       "    }\n",
       "\n",
       "    .dataframe tbody tr th {\n",
       "        vertical-align: top;\n",
       "    }\n",
       "\n",
       "    .dataframe thead th {\n",
       "        text-align: right;\n",
       "    }\n",
       "</style>\n",
       "<table border=\"1\" class=\"dataframe\">\n",
       "  <thead>\n",
       "    <tr style=\"text-align: right;\">\n",
       "      <th></th>\n",
       "      <th>최고기온</th>\n",
       "      <th>최저기온</th>\n",
       "      <th>일교차</th>\n",
       "      <th>강수량</th>\n",
       "      <th>평균습도</th>\n",
       "      <th>평균풍속</th>\n",
       "      <th>일조합</th>\n",
       "      <th>일사합</th>\n",
       "      <th>일조율</th>\n",
       "      <th>평균기온</th>\n",
       "    </tr>\n",
       "    <tr>\n",
       "      <th>일시</th>\n",
       "      <th></th>\n",
       "      <th></th>\n",
       "      <th></th>\n",
       "      <th></th>\n",
       "      <th></th>\n",
       "      <th></th>\n",
       "      <th></th>\n",
       "      <th></th>\n",
       "      <th></th>\n",
       "      <th></th>\n",
       "    </tr>\n",
       "  </thead>\n",
       "  <tbody>\n",
       "  </tbody>\n",
       "</table>\n",
       "</div>"
      ],
      "text/plain": [
       "Empty DataFrame\n",
       "Columns: [최고기온, 최저기온, 일교차, 강수량, 평균습도, 평균풍속, 일조합, 일사합, 일조율, 평균기온]\n",
       "Index: []"
      ]
     },
     "execution_count": 9,
     "metadata": {},
     "output_type": "execute_result"
    }
   ],
   "source": [
    "train[(train['일조합'].isna()) & (train['일조율'].isna())]"
   ]
  },
  {
   "cell_type": "code",
   "execution_count": 10,
   "metadata": {},
   "outputs": [
    {
     "data": {
      "text/plain": [
       "최고기온        0\n",
       "최저기온        0\n",
       "일교차         0\n",
       "강수량     13861\n",
       "평균습도        0\n",
       "평균풍속        4\n",
       "일조합         0\n",
       "일사합      4862\n",
       "일조율         0\n",
       "평균기온        0\n",
       "dtype: int64"
      ]
     },
     "execution_count": 10,
     "metadata": {},
     "output_type": "execute_result"
    }
   ],
   "source": [
    "from sklearn.linear_model import LinearRegression\n",
    "\n",
    "\n",
    "# 일조율 결측값을 채우기 위한 모델 정의\n",
    "fill_rate_model = LinearRegression()\n",
    "\n",
    "# 결측값이 없는 데이터로 모델을 학습\n",
    "not_null_data = train[(train['일조합'].notna()) & (train['일조율'].notna())]\n",
    "\n",
    "# 독립변수로 '일조합'을 사용\n",
    "X = not_null_data[['일조합']]\n",
    "y = not_null_data['일조율']\n",
    "fill_rate_model.fit(X, y)\n",
    "\n",
    "# 일조율 결측값을 예측하여 채우기\n",
    "is_null_일조율 = train['일조율'].isna()\n",
    "train.loc[is_null_일조율, '일조율'] = fill_rate_model.predict(train.loc[is_null_일조율, ['일조합']])\n",
    "\n",
    "\n",
    "\n",
    "# 독립변수로 '일조율'을 사용\n",
    "X = train[['일조율']] \n",
    "y = train['일조합'].dropna()\n",
    "\n",
    "# 일조합 결측값을 채우기 위한 모델 정의\n",
    "fill_sum_model = LinearRegression()\n",
    "fill_sum_model.fit(X[~train['일조합'].isna()], y)\n",
    "\n",
    "# 일조합 결측값을 예측하여 채우기\n",
    "is_null_일조합 = train['일조합'].isna()\n",
    "train.loc[is_null_일조합, '일조합'] = fill_sum_model.predict(train.loc[is_null_일조합, ['일조율']])\n",
    "\n",
    "# 모든 결측값이 채워졌는지 확인\n",
    "train.isnull().sum()"
   ]
  },
  {
   "cell_type": "code",
   "execution_count": 11,
   "metadata": {},
   "outputs": [
    {
     "data": {
      "text/plain": [
       "최고기온        0\n",
       "최저기온        0\n",
       "일교차         0\n",
       "강수량     13861\n",
       "평균습도        0\n",
       "평균풍속        4\n",
       "일조합         0\n",
       "일사합         0\n",
       "일조율         0\n",
       "평균기온        0\n",
       "dtype: int64"
      ]
     },
     "execution_count": 11,
     "metadata": {},
     "output_type": "execute_result"
    }
   ],
   "source": [
    "# 일사합 결측값을 채우기 위한 모델 정의\n",
    "fill_irradiance_model = LinearRegression()\n",
    "\n",
    "# 결측값이 없는 데이터로 모델을 학습\n",
    "not_null_irradiance_data = train[(train['일조합'].notna()) & (train['일사합'].notna())]\n",
    "\n",
    "# 독립변수로 '일조합'을 사용\n",
    "X_irradiance = not_null_irradiance_data[['일조합']]\n",
    "y_irradiance = not_null_irradiance_data['일사합']\n",
    "fill_irradiance_model.fit(X_irradiance, y_irradiance)\n",
    "\n",
    "# 일사합 결측값을 예측하여 채우기\n",
    "is_null_일사합 = train['일사합'].isna()\n",
    "train.loc[is_null_일사합, '일사합'] = fill_irradiance_model.predict(train.loc[is_null_일사합, ['일조합']])\n",
    "\n",
    "# 모든 결측값이 채워졌는지 확인\n",
    "train.isnull().sum()"
   ]
  },
  {
   "cell_type": "code",
   "execution_count": 12,
   "metadata": {},
   "outputs": [
    {
     "data": {
      "text/plain": [
       "최고기온        0\n",
       "최저기온        0\n",
       "일교차         0\n",
       "강수량     13861\n",
       "평균습도        0\n",
       "평균풍속        0\n",
       "일조합         0\n",
       "일사합         0\n",
       "일조율         0\n",
       "평균기온        0\n",
       "dtype: int64"
      ]
     },
     "execution_count": 12,
     "metadata": {},
     "output_type": "execute_result"
    }
   ],
   "source": [
    "# 일자에서 월 추출\n",
    "train['월'] = train.index.month\n",
    "\n",
    "# 각 월별 평균풍속의 중앙값 계산\n",
    "median_wind_speed_per_month = train.groupby('월')['평균풍속'].median()\n",
    "\n",
    "# 각 월별로 평균풍속 결측값을 해당 월의 중앙값으로 대체\n",
    "for month, median in median_wind_speed_per_month.items():\n",
    "    train.loc[(train['월'] == month) & (train['평균풍속'].isna()), '평균풍속'] = median\n",
    "\n",
    "# 더 이상 필요하지 않은 '월' 컬럼 삭제\n",
    "train.drop('월', axis=1, inplace=True)\n",
    "\n",
    "# 결측값이 잘 대체되었는지 확인\n",
    "train.isnull().sum()"
   ]
  },
  {
   "cell_type": "code",
   "execution_count": 13,
   "metadata": {},
   "outputs": [
    {
     "data": {
      "text/plain": [
       "최고기온    0\n",
       "최저기온    0\n",
       "일교차     0\n",
       "강수량     0\n",
       "평균습도    0\n",
       "평균풍속    0\n",
       "일조합     0\n",
       "일사합     0\n",
       "일조율     0\n",
       "평균기온    0\n",
       "dtype: int64"
      ]
     },
     "execution_count": 13,
     "metadata": {},
     "output_type": "execute_result"
    }
   ],
   "source": [
    "train['강수량'].fillna(method='bfill', inplace = True)\n",
    "train.isnull().sum()"
   ]
  },
  {
   "cell_type": "code",
   "execution_count": 14,
   "metadata": {},
   "outputs": [],
   "source": [
    "train.to_csv('preprocessing_train.csv', index = True)"
   ]
  }
 ],
 "metadata": {
  "kernelspec": {
   "display_name": "Python 3 (ipykernel)",
   "language": "python",
   "name": "python3"
  },
  "language_info": {
   "codemirror_mode": {
    "name": "ipython",
    "version": 3
   },
   "file_extension": ".py",
   "mimetype": "text/x-python",
   "name": "python",
   "nbconvert_exporter": "python",
   "pygments_lexer": "ipython3",
   "version": "3.11.5"
  }
 },
 "nbformat": 4,
 "nbformat_minor": 2
}
