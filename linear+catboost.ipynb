{
 "cells": [
  {
   "cell_type": "code",
   "execution_count": 12,
   "metadata": {},
   "outputs": [],
   "source": [
    "import matplotlib.pyplot as plt\n",
    "import seaborn as sns\n",
    "import numpy as np\n",
    "import pandas as pd \n",
    "import koreanize_matplotlib\n",
    "\n",
    "import datetime\n",
    "import random\n",
    "import os\n",
    "import sys\n",
    "\n",
    "\n",
    "import sklearn\n",
    "import catboost\n",
    "from catboost import CatBoostRegressor\n",
    "from sklearn.linear_model import LinearRegression"
   ]
  },
  {
   "cell_type": "code",
   "execution_count": 3,
   "metadata": {},
   "outputs": [],
   "source": [
    "def seed_everything(seed: int = 2024):\n",
    "    random.seed(seed)\n",
    "    np.random.seed(seed)\n",
    "    os.environ[\"PYTHONHASHSEED\"] = str(seed)\n",
    "seed_everything(2024)"
   ]
  },
  {
   "cell_type": "code",
   "execution_count": 4,
   "metadata": {},
   "outputs": [],
   "source": [
    "train = pd.read_csv(\"./preprocessing_train.csv\")\n",
    "submission = pd.read_csv(\"./sample_submission.csv\")"
   ]
  },
  {
   "cell_type": "code",
   "execution_count": 5,
   "metadata": {},
   "outputs": [
    {
     "data": {
      "text/plain": [
       "일시      0\n",
       "최고기온    0\n",
       "최저기온    0\n",
       "일교차     0\n",
       "강수량     0\n",
       "평균습도    0\n",
       "평균풍속    0\n",
       "일조합     0\n",
       "일사합     0\n",
       "일조율     0\n",
       "평균기온    0\n",
       "dtype: int64"
      ]
     },
     "execution_count": 5,
     "metadata": {},
     "output_type": "execute_result"
    }
   ],
   "source": [
    "train.isnull().sum()"
   ]
  },
  {
   "cell_type": "code",
   "execution_count": 6,
   "metadata": {},
   "outputs": [],
   "source": [
    "train[\"일시\"] = pd.to_datetime(train[\"일시\"])\n",
    "submission[\"일시\"] = pd.to_datetime(submission[\"일시\"])"
   ]
  },
  {
   "cell_type": "code",
   "execution_count": 7,
   "metadata": {},
   "outputs": [],
   "source": [
    "#년/월/일 추가\n",
    "train['년']=train['일시'].dt.year\n",
    "train['월']=train['일시'].dt.month\n",
    "train['일']=train['일시'].dt.day\n",
    "\n",
    "submission['년']=submission['일시'].dt.year\n",
    "submission['월']=submission['일시'].dt.month\n",
    "submission['일']=submission['일시'].dt.day"
   ]
  },
  {
   "cell_type": "code",
   "execution_count": 8,
   "metadata": {},
   "outputs": [],
   "source": [
    "# 날짜 데이터\n",
    "date_data = pd.date_range(start='1960-01-01', end='2022-12-31', freq='D')\n",
    "\n",
    "# 일 단위 추출\n",
    "day_of_year = date_data.dayofyear\n",
    "\n",
    "# 주기 함수로 변환\n",
    "train['Day sin'] = np.sin(2 * np.pi * day_of_year / 365)\n",
    "train['Day cos'] = np.cos(2 * np.pi * day_of_year / 365)\n",
    "\n",
    "# 날짜 데이터\n",
    "date_data2 = pd.date_range(start='2023-01-01', end='2023-12-24', freq='D')\n",
    "\n",
    "# 일 단위 추출\n",
    "day_of_year2 = date_data2.dayofyear\n",
    "\n",
    "# 주기 함수로 변환\n",
    "submission['Day sin'] = np.sin(2 * np.pi * day_of_year2 / 358)\n",
    "submission['Day cos'] = np.cos(2 * np.pi * day_of_year2 / 358)"
   ]
  },
  {
   "cell_type": "code",
   "execution_count": 9,
   "metadata": {},
   "outputs": [],
   "source": [
    "# 주차 변수 추가\n",
    "train[\"주차\"] = train[\"일시\"].map(lambda x: datetime.datetime(x.year, x.month, x.day).isocalendar()[1])\n",
    "submission[\"주차\"] = submission[\"일시\"].map(lambda x: datetime.datetime(x.year, x.month, x.day).isocalendar()[1])"
   ]
  },
  {
   "cell_type": "code",
   "execution_count": 10,
   "metadata": {},
   "outputs": [
    {
     "name": "stdout",
     "output_type": "stream",
     "text": [
      "              일시   월  계절\n",
      "0     1960-01-01   1  겨울\n",
      "1     1960-01-02   1  겨울\n",
      "2     1960-01-03   1  겨울\n",
      "3     1960-01-04   1  겨울\n",
      "4     1960-01-05   1  겨울\n",
      "...          ...  ..  ..\n",
      "23006 2022-12-27  12  겨울\n",
      "23007 2022-12-28  12  겨울\n",
      "23008 2022-12-29  12  겨울\n",
      "23009 2022-12-30  12  겨울\n",
      "23010 2022-12-31  12  겨울\n",
      "\n",
      "[23011 rows x 3 columns]\n",
      "            일시   월  계절\n",
      "0   2023-01-01   1  겨울\n",
      "1   2023-01-02   1  겨울\n",
      "2   2023-01-03   1  겨울\n",
      "3   2023-01-04   1  겨울\n",
      "4   2023-01-05   1  겨울\n",
      "..         ...  ..  ..\n",
      "353 2023-12-20  12  겨울\n",
      "354 2023-12-21  12  겨울\n",
      "355 2023-12-22  12  겨울\n",
      "356 2023-12-23  12  겨울\n",
      "357 2023-12-24  12  겨울\n",
      "\n",
      "[358 rows x 3 columns]\n"
     ]
    }
   ],
   "source": [
    "# 계절 변수 생성\n",
    "train['계절'] = ''\n",
    "\n",
    "for i, month in enumerate(train['월']):\n",
    "    if 3 <= month <= 5:\n",
    "        train.at[i, '계절'] = '봄'\n",
    "    elif 6 <= month <= 8:\n",
    "        train.at[i, '계절'] = '여름'\n",
    "    elif 9 <= month <= 11:\n",
    "        train.at[i, '계절'] = '가을'\n",
    "    else:\n",
    "        train.at[i, '계절'] = '겨울'\n",
    "\n",
    "# 결과 확인\n",
    "print(train[['일시', '월', '계절']])\n",
    "\n",
    "\n",
    "# 계절 변수 생성\n",
    "submission['계절'] = ''\n",
    "\n",
    "for i, month in enumerate(submission['월']):\n",
    "    if 3 <= month <= 5:\n",
    "        submission.at[i, '계절'] = '봄'\n",
    "    elif 6 <= month <= 8:\n",
    "        submission.at[i, '계절'] = '여름'\n",
    "    elif 9 <= month <= 11:\n",
    "        submission.at[i, '계절'] = '가을'\n",
    "    else:\n",
    "        submission.at[i, '계절'] = '겨울'\n",
    "\n",
    "# 결과 확인\n",
    "print(submission[['일시', '월', '계절']])"
   ]
  },
  {
   "cell_type": "code",
   "execution_count": 11,
   "metadata": {},
   "outputs": [
    {
     "name": "stdout",
     "output_type": "stream",
     "text": [
      "              일시  최고기온  최저기온   일교차  강수량  평균습도  평균풍속  일조합        일사합  \\\n",
      "0     1960-01-01   2.2  -5.2   7.4  0.4  68.3   1.7  6.7  13.038944   \n",
      "1     1960-01-02   1.2  -5.6   6.8  0.4  87.7   1.3  0.0   4.181680   \n",
      "2     1960-01-03   8.7  -2.1  10.8  0.0  81.3   3.0  0.0   4.181680   \n",
      "3     1960-01-04  10.8   1.2   9.6  0.0  79.7   4.4  2.6   7.618827   \n",
      "4     1960-01-05   1.3  -8.2   9.5  0.0  44.0   5.1  8.2  15.021913   \n",
      "...          ...   ...   ...   ...  ...   ...   ...  ...        ...   \n",
      "23006 2022-12-27   3.3  -7.3  10.6  0.1  69.8   1.8  8.8  10.250000   \n",
      "23007 2022-12-28   0.1  -6.0   6.1  0.1  58.1   2.5  8.7  10.860000   \n",
      "23008 2022-12-29   2.1  -7.8   9.9  0.0  56.3   1.7  9.0  10.880000   \n",
      "23009 2022-12-30   2.3  -4.4   6.7  0.0  65.6   1.9  7.9  10.840000   \n",
      "23010 2022-12-31   2.1  -5.1   7.2  0.0  65.5   1.4  1.1   4.160000   \n",
      "\n",
      "             일조율  ...     년   월   일       Day sin   Day cos  주차  계절_가을  계절_겨울  \\\n",
      "0      55.602262  ...  1960   1   1  1.721336e-02  0.999852  53  False   True   \n",
      "1       2.124736  ...  1960   1   2  3.442161e-02  0.999407  53  False   True   \n",
      "2       2.124736  ...  1960   1   3  5.161967e-02  0.998667  53  False   True   \n",
      "3      22.877209  ...  1960   1   4  6.880243e-02  0.997630   1  False   True   \n",
      "4      67.574842  ...  1960   1   5  8.596480e-02  0.996298   1  False   True   \n",
      "...          ...  ...   ...  ..  ..           ...       ...  ..    ...    ...   \n",
      "23006  91.700000  ...  2022  12  27 -6.880243e-02  0.997630  52  False   True   \n",
      "23007  90.600000  ...  2022  12  28 -5.161967e-02  0.998667  52  False   True   \n",
      "23008  93.800000  ...  2022  12  29 -3.442161e-02  0.999407  52  False   True   \n",
      "23009  82.300000  ...  2022  12  30 -1.721336e-02  0.999852  52  False   True   \n",
      "23010  11.500000  ...  2022  12  31  6.432491e-16  1.000000  52  False   True   \n",
      "\n",
      "        계절_봄  계절_여름  \n",
      "0      False  False  \n",
      "1      False  False  \n",
      "2      False  False  \n",
      "3      False  False  \n",
      "4      False  False  \n",
      "...      ...    ...  \n",
      "23006  False  False  \n",
      "23007  False  False  \n",
      "23008  False  False  \n",
      "23009  False  False  \n",
      "23010  False  False  \n",
      "\n",
      "[23011 rows x 21 columns]\n",
      "              일시  최고기온  최저기온   일교차  강수량  평균습도  평균풍속  일조합        일사합  \\\n",
      "0     1960-01-01   2.2  -5.2   7.4  0.4  68.3   1.7  6.7  13.038944   \n",
      "1     1960-01-02   1.2  -5.6   6.8  0.4  87.7   1.3  0.0   4.181680   \n",
      "2     1960-01-03   8.7  -2.1  10.8  0.0  81.3   3.0  0.0   4.181680   \n",
      "3     1960-01-04  10.8   1.2   9.6  0.0  79.7   4.4  2.6   7.618827   \n",
      "4     1960-01-05   1.3  -8.2   9.5  0.0  44.0   5.1  8.2  15.021913   \n",
      "...          ...   ...   ...   ...  ...   ...   ...  ...        ...   \n",
      "23006 2022-12-27   3.3  -7.3  10.6  0.1  69.8   1.8  8.8  10.250000   \n",
      "23007 2022-12-28   0.1  -6.0   6.1  0.1  58.1   2.5  8.7  10.860000   \n",
      "23008 2022-12-29   2.1  -7.8   9.9  0.0  56.3   1.7  9.0  10.880000   \n",
      "23009 2022-12-30   2.3  -4.4   6.7  0.0  65.6   1.9  7.9  10.840000   \n",
      "23010 2022-12-31   2.1  -5.1   7.2  0.0  65.5   1.4  1.1   4.160000   \n",
      "\n",
      "             일조율  ...     년   월   일       Day sin   Day cos  주차  계절_가을  계절_겨울  \\\n",
      "0      55.602262  ...  1960   1   1  1.721336e-02  0.999852  53  False   True   \n",
      "1       2.124736  ...  1960   1   2  3.442161e-02  0.999407  53  False   True   \n",
      "2       2.124736  ...  1960   1   3  5.161967e-02  0.998667  53  False   True   \n",
      "3      22.877209  ...  1960   1   4  6.880243e-02  0.997630   1  False   True   \n",
      "4      67.574842  ...  1960   1   5  8.596480e-02  0.996298   1  False   True   \n",
      "...          ...  ...   ...  ..  ..           ...       ...  ..    ...    ...   \n",
      "23006  91.700000  ...  2022  12  27 -6.880243e-02  0.997630  52  False   True   \n",
      "23007  90.600000  ...  2022  12  28 -5.161967e-02  0.998667  52  False   True   \n",
      "23008  93.800000  ...  2022  12  29 -3.442161e-02  0.999407  52  False   True   \n",
      "23009  82.300000  ...  2022  12  30 -1.721336e-02  0.999852  52  False   True   \n",
      "23010  11.500000  ...  2022  12  31  6.432491e-16  1.000000  52  False   True   \n",
      "\n",
      "        계절_봄  계절_여름  \n",
      "0      False  False  \n",
      "1      False  False  \n",
      "2      False  False  \n",
      "3      False  False  \n",
      "4      False  False  \n",
      "...      ...    ...  \n",
      "23006  False  False  \n",
      "23007  False  False  \n",
      "23008  False  False  \n",
      "23009  False  False  \n",
      "23010  False  False  \n",
      "\n",
      "[23011 rows x 21 columns]\n",
      "            일시  평균기온     년   월   일       Day sin   Day cos  주차  계절_가을  계절_겨울  \\\n",
      "0   2023-01-01     0  2023   1   1  1.754990e-02  0.999846  52  False   True   \n",
      "1   2023-01-02     0  2023   1   2  3.509439e-02  0.999384   1  False   True   \n",
      "2   2023-01-03     0  2023   1   3  5.262807e-02  0.998614   1  False   True   \n",
      "3   2023-01-04     0  2023   1   4  7.014554e-02  0.997537   1  False   True   \n",
      "4   2023-01-05     0  2023   1   5  8.764140e-02  0.996152   1  False   True   \n",
      "..         ...   ...   ...  ..  ..           ...       ...  ..    ...    ...   \n",
      "353 2023-12-20     0  2023  12  20 -7.014554e-02  0.997537  51  False   True   \n",
      "354 2023-12-21     0  2023  12  21 -5.262807e-02  0.998614  51  False   True   \n",
      "355 2023-12-22     0  2023  12  22 -3.509439e-02  0.999384  51  False   True   \n",
      "356 2023-12-23     0  2023  12  23 -1.754990e-02  0.999846  51  False   True   \n",
      "357 2023-12-24     0  2023  12  24 -2.449294e-16  1.000000  51  False   True   \n",
      "\n",
      "      계절_봄  계절_여름  \n",
      "0    False  False  \n",
      "1    False  False  \n",
      "2    False  False  \n",
      "3    False  False  \n",
      "4    False  False  \n",
      "..     ...    ...  \n",
      "353  False  False  \n",
      "354  False  False  \n",
      "355  False  False  \n",
      "356  False  False  \n",
      "357  False  False  \n",
      "\n",
      "[358 rows x 12 columns]\n"
     ]
    }
   ],
   "source": [
    "# '계절' 열에 대한 원핫인코딩 수행\n",
    "one_hot_encoded = pd.get_dummies(train['계절'], prefix='계절')\n",
    "\n",
    "# 기존 데이터프레임과 합치기\n",
    "train = pd.concat([train, one_hot_encoded], axis=1)\n",
    "\n",
    "# '계절' 열과 중복된 열 삭제\n",
    "train.drop(['계절'], axis=1, inplace=True)\n",
    "\n",
    "# 결과 확인\n",
    "print(train)\n",
    "\n",
    "\n",
    "# '계절' 열에 대한 원핫인코딩 수행\n",
    "one_hot_encoded = pd.get_dummies(submission['계절'], prefix='계절')\n",
    "\n",
    "# 기존 데이터프레임과 합치기\n",
    "submission = pd.concat([submission, one_hot_encoded], axis=1)\n",
    "\n",
    "# '계절' 열과 중복된 열 삭제\n",
    "submission.drop(['계절'], axis=1, inplace=True)\n",
    "\n",
    "# 결과 확인\n",
    "print(train)\n",
    "print(submission)"
   ]
  },
  {
   "cell_type": "markdown",
   "metadata": {},
   "source": [
    "일교차 예측"
   ]
  },
  {
   "cell_type": "code",
   "execution_count": 13,
   "metadata": {},
   "outputs": [
    {
     "data": {
      "text/html": [
       "<style>#sk-container-id-1 {color: black;}#sk-container-id-1 pre{padding: 0;}#sk-container-id-1 div.sk-toggleable {background-color: white;}#sk-container-id-1 label.sk-toggleable__label {cursor: pointer;display: block;width: 100%;margin-bottom: 0;padding: 0.3em;box-sizing: border-box;text-align: center;}#sk-container-id-1 label.sk-toggleable__label-arrow:before {content: \"▸\";float: left;margin-right: 0.25em;color: #696969;}#sk-container-id-1 label.sk-toggleable__label-arrow:hover:before {color: black;}#sk-container-id-1 div.sk-estimator:hover label.sk-toggleable__label-arrow:before {color: black;}#sk-container-id-1 div.sk-toggleable__content {max-height: 0;max-width: 0;overflow: hidden;text-align: left;background-color: #f0f8ff;}#sk-container-id-1 div.sk-toggleable__content pre {margin: 0.2em;color: black;border-radius: 0.25em;background-color: #f0f8ff;}#sk-container-id-1 input.sk-toggleable__control:checked~div.sk-toggleable__content {max-height: 200px;max-width: 100%;overflow: auto;}#sk-container-id-1 input.sk-toggleable__control:checked~label.sk-toggleable__label-arrow:before {content: \"▾\";}#sk-container-id-1 div.sk-estimator input.sk-toggleable__control:checked~label.sk-toggleable__label {background-color: #d4ebff;}#sk-container-id-1 div.sk-label input.sk-toggleable__control:checked~label.sk-toggleable__label {background-color: #d4ebff;}#sk-container-id-1 input.sk-hidden--visually {border: 0;clip: rect(1px 1px 1px 1px);clip: rect(1px, 1px, 1px, 1px);height: 1px;margin: -1px;overflow: hidden;padding: 0;position: absolute;width: 1px;}#sk-container-id-1 div.sk-estimator {font-family: monospace;background-color: #f0f8ff;border: 1px dotted black;border-radius: 0.25em;box-sizing: border-box;margin-bottom: 0.5em;}#sk-container-id-1 div.sk-estimator:hover {background-color: #d4ebff;}#sk-container-id-1 div.sk-parallel-item::after {content: \"\";width: 100%;border-bottom: 1px solid gray;flex-grow: 1;}#sk-container-id-1 div.sk-label:hover label.sk-toggleable__label {background-color: #d4ebff;}#sk-container-id-1 div.sk-serial::before {content: \"\";position: absolute;border-left: 1px solid gray;box-sizing: border-box;top: 0;bottom: 0;left: 50%;z-index: 0;}#sk-container-id-1 div.sk-serial {display: flex;flex-direction: column;align-items: center;background-color: white;padding-right: 0.2em;padding-left: 0.2em;position: relative;}#sk-container-id-1 div.sk-item {position: relative;z-index: 1;}#sk-container-id-1 div.sk-parallel {display: flex;align-items: stretch;justify-content: center;background-color: white;position: relative;}#sk-container-id-1 div.sk-item::before, #sk-container-id-1 div.sk-parallel-item::before {content: \"\";position: absolute;border-left: 1px solid gray;box-sizing: border-box;top: 0;bottom: 0;left: 50%;z-index: -1;}#sk-container-id-1 div.sk-parallel-item {display: flex;flex-direction: column;z-index: 1;position: relative;background-color: white;}#sk-container-id-1 div.sk-parallel-item:first-child::after {align-self: flex-end;width: 50%;}#sk-container-id-1 div.sk-parallel-item:last-child::after {align-self: flex-start;width: 50%;}#sk-container-id-1 div.sk-parallel-item:only-child::after {width: 0;}#sk-container-id-1 div.sk-dashed-wrapped {border: 1px dashed gray;margin: 0 0.4em 0.5em 0.4em;box-sizing: border-box;padding-bottom: 0.4em;background-color: white;}#sk-container-id-1 div.sk-label label {font-family: monospace;font-weight: bold;display: inline-block;line-height: 1.2em;}#sk-container-id-1 div.sk-label-container {text-align: center;}#sk-container-id-1 div.sk-container {/* jupyter's `normalize.less` sets `[hidden] { display: none; }` but bootstrap.min.css set `[hidden] { display: none !important; }` so we also need the `!important` here to be able to override the default hidden behavior on the sphinx rendered scikit-learn.org. See: https://github.com/scikit-learn/scikit-learn/issues/21755 */display: inline-block !important;position: relative;}#sk-container-id-1 div.sk-text-repr-fallback {display: none;}</style><div id=\"sk-container-id-1\" class=\"sk-top-container\"><div class=\"sk-text-repr-fallback\"><pre>LinearRegression()</pre><b>In a Jupyter environment, please rerun this cell to show the HTML representation or trust the notebook. <br />On GitHub, the HTML representation is unable to render, please try loading this page with nbviewer.org.</b></div><div class=\"sk-container\" hidden><div class=\"sk-item\"><div class=\"sk-estimator sk-toggleable\"><input class=\"sk-toggleable__control sk-hidden--visually\" id=\"sk-estimator-id-1\" type=\"checkbox\" checked><label for=\"sk-estimator-id-1\" class=\"sk-toggleable__label sk-toggleable__label-arrow\">LinearRegression</label><div class=\"sk-toggleable__content\"><pre>LinearRegression()</pre></div></div></div></div></div>"
      ],
      "text/plain": [
       "LinearRegression()"
      ]
     },
     "execution_count": 13,
     "metadata": {},
     "output_type": "execute_result"
    }
   ],
   "source": [
    "# 필요한 변수 선택 (예시로 선택된 변수들이므로 실제로 사용하는 변수에 맞게 수정 필요)\n",
    "selected_features = ['년', '월', '일', 'Day sin', 'Day cos', '주차', '계절_가을', '계절_겨울', '계절_봄', '계절_여름']\n",
    "target_variable = '일교차'\n",
    "\n",
    "# 선택된 변수들을 사용하여 훈련 데이터셋 준비\n",
    "train_x = train[selected_features]\n",
    "train_y = train[target_variable]\n",
    "\n",
    "test_x = submission[selected_features]\n",
    "\n",
    "# 모델 정의\n",
    "linear_model = LinearRegression()\n",
    "\n",
    "# 모델 학습\n",
    "linear_model.fit(train_x, train_y)\n"
   ]
  },
  {
   "cell_type": "code",
   "execution_count": 14,
   "metadata": {},
   "outputs": [],
   "source": [
    "# submission 데이터에서 필요한 변수만 남기기 (평균기온을 예측하기 위한 변수)\n",
    "submission_data = submission[['년', '월', '일', 'Day sin', 'Day cos', '주차','계절_가을','계절_겨울','계절_봄','계절_여름']]\n",
    "\n",
    "# 예측 수행\n",
    "submission_pred = linear_model.predict(submission_data)"
   ]
  },
  {
   "cell_type": "code",
   "execution_count": 15,
   "metadata": {},
   "outputs": [],
   "source": [
    "submission['일교차'] = submission_pred"
   ]
  },
  {
   "cell_type": "markdown",
   "metadata": {},
   "source": [
    "일죠율 예측"
   ]
  },
  {
   "cell_type": "code",
   "execution_count": 17,
   "metadata": {},
   "outputs": [
    {
     "data": {
      "text/html": [
       "<style>#sk-container-id-2 {color: black;}#sk-container-id-2 pre{padding: 0;}#sk-container-id-2 div.sk-toggleable {background-color: white;}#sk-container-id-2 label.sk-toggleable__label {cursor: pointer;display: block;width: 100%;margin-bottom: 0;padding: 0.3em;box-sizing: border-box;text-align: center;}#sk-container-id-2 label.sk-toggleable__label-arrow:before {content: \"▸\";float: left;margin-right: 0.25em;color: #696969;}#sk-container-id-2 label.sk-toggleable__label-arrow:hover:before {color: black;}#sk-container-id-2 div.sk-estimator:hover label.sk-toggleable__label-arrow:before {color: black;}#sk-container-id-2 div.sk-toggleable__content {max-height: 0;max-width: 0;overflow: hidden;text-align: left;background-color: #f0f8ff;}#sk-container-id-2 div.sk-toggleable__content pre {margin: 0.2em;color: black;border-radius: 0.25em;background-color: #f0f8ff;}#sk-container-id-2 input.sk-toggleable__control:checked~div.sk-toggleable__content {max-height: 200px;max-width: 100%;overflow: auto;}#sk-container-id-2 input.sk-toggleable__control:checked~label.sk-toggleable__label-arrow:before {content: \"▾\";}#sk-container-id-2 div.sk-estimator input.sk-toggleable__control:checked~label.sk-toggleable__label {background-color: #d4ebff;}#sk-container-id-2 div.sk-label input.sk-toggleable__control:checked~label.sk-toggleable__label {background-color: #d4ebff;}#sk-container-id-2 input.sk-hidden--visually {border: 0;clip: rect(1px 1px 1px 1px);clip: rect(1px, 1px, 1px, 1px);height: 1px;margin: -1px;overflow: hidden;padding: 0;position: absolute;width: 1px;}#sk-container-id-2 div.sk-estimator {font-family: monospace;background-color: #f0f8ff;border: 1px dotted black;border-radius: 0.25em;box-sizing: border-box;margin-bottom: 0.5em;}#sk-container-id-2 div.sk-estimator:hover {background-color: #d4ebff;}#sk-container-id-2 div.sk-parallel-item::after {content: \"\";width: 100%;border-bottom: 1px solid gray;flex-grow: 1;}#sk-container-id-2 div.sk-label:hover label.sk-toggleable__label {background-color: #d4ebff;}#sk-container-id-2 div.sk-serial::before {content: \"\";position: absolute;border-left: 1px solid gray;box-sizing: border-box;top: 0;bottom: 0;left: 50%;z-index: 0;}#sk-container-id-2 div.sk-serial {display: flex;flex-direction: column;align-items: center;background-color: white;padding-right: 0.2em;padding-left: 0.2em;position: relative;}#sk-container-id-2 div.sk-item {position: relative;z-index: 1;}#sk-container-id-2 div.sk-parallel {display: flex;align-items: stretch;justify-content: center;background-color: white;position: relative;}#sk-container-id-2 div.sk-item::before, #sk-container-id-2 div.sk-parallel-item::before {content: \"\";position: absolute;border-left: 1px solid gray;box-sizing: border-box;top: 0;bottom: 0;left: 50%;z-index: -1;}#sk-container-id-2 div.sk-parallel-item {display: flex;flex-direction: column;z-index: 1;position: relative;background-color: white;}#sk-container-id-2 div.sk-parallel-item:first-child::after {align-self: flex-end;width: 50%;}#sk-container-id-2 div.sk-parallel-item:last-child::after {align-self: flex-start;width: 50%;}#sk-container-id-2 div.sk-parallel-item:only-child::after {width: 0;}#sk-container-id-2 div.sk-dashed-wrapped {border: 1px dashed gray;margin: 0 0.4em 0.5em 0.4em;box-sizing: border-box;padding-bottom: 0.4em;background-color: white;}#sk-container-id-2 div.sk-label label {font-family: monospace;font-weight: bold;display: inline-block;line-height: 1.2em;}#sk-container-id-2 div.sk-label-container {text-align: center;}#sk-container-id-2 div.sk-container {/* jupyter's `normalize.less` sets `[hidden] { display: none; }` but bootstrap.min.css set `[hidden] { display: none !important; }` so we also need the `!important` here to be able to override the default hidden behavior on the sphinx rendered scikit-learn.org. See: https://github.com/scikit-learn/scikit-learn/issues/21755 */display: inline-block !important;position: relative;}#sk-container-id-2 div.sk-text-repr-fallback {display: none;}</style><div id=\"sk-container-id-2\" class=\"sk-top-container\"><div class=\"sk-text-repr-fallback\"><pre>LinearRegression()</pre><b>In a Jupyter environment, please rerun this cell to show the HTML representation or trust the notebook. <br />On GitHub, the HTML representation is unable to render, please try loading this page with nbviewer.org.</b></div><div class=\"sk-container\" hidden><div class=\"sk-item\"><div class=\"sk-estimator sk-toggleable\"><input class=\"sk-toggleable__control sk-hidden--visually\" id=\"sk-estimator-id-2\" type=\"checkbox\" checked><label for=\"sk-estimator-id-2\" class=\"sk-toggleable__label sk-toggleable__label-arrow\">LinearRegression</label><div class=\"sk-toggleable__content\"><pre>LinearRegression()</pre></div></div></div></div></div>"
      ],
      "text/plain": [
       "LinearRegression()"
      ]
     },
     "execution_count": 17,
     "metadata": {},
     "output_type": "execute_result"
    }
   ],
   "source": [
    "# 필요한 변수 선택 (예시로 선택된 변수들이므로 실제로 사용하는 변수에 맞게 수정 필요)\n",
    "selected_features = ['년', '월', '일', 'Day sin', 'Day cos', '주차', '일교차','계절_가을','계절_겨울','계절_봄','계절_여름']\n",
    "target_variable = '일조율'\n",
    "\n",
    "# 선택된 변수들을 사용하여 훈련 데이터셋 준비\n",
    "train_x = train[selected_features]\n",
    "train_y = train[target_variable]\n",
    "\n",
    "test_x = submission[selected_features]\n",
    "\n",
    "# 모델 정의\n",
    "linear_model = LinearRegression()\n",
    "\n",
    "# 모델 학습\n",
    "linear_model.fit(train_x, train_y)"
   ]
  },
  {
   "cell_type": "code",
   "execution_count": 18,
   "metadata": {},
   "outputs": [],
   "source": [
    "# submission 데이터에서 필요한 변수만 남기기 (평균기온을 예측하기 위한 변수)\n",
    "submission_data = submission[['년', '월', '일', 'Day sin', 'Day cos', '주차', '일교차','계절_가을','계절_겨울','계절_봄','계절_여름']]\n",
    "\n",
    "# 예측 수행\n",
    "submission_pred = linear_model.predict(submission_data)"
   ]
  },
  {
   "cell_type": "code",
   "execution_count": 19,
   "metadata": {},
   "outputs": [],
   "source": [
    "submission['일조율'] = submission_pred"
   ]
  },
  {
   "cell_type": "markdown",
   "metadata": {},
   "source": [
    "평균습도 예측"
   ]
  },
  {
   "cell_type": "code",
   "execution_count": 20,
   "metadata": {},
   "outputs": [
    {
     "data": {
      "text/html": [
       "<style>#sk-container-id-3 {color: black;}#sk-container-id-3 pre{padding: 0;}#sk-container-id-3 div.sk-toggleable {background-color: white;}#sk-container-id-3 label.sk-toggleable__label {cursor: pointer;display: block;width: 100%;margin-bottom: 0;padding: 0.3em;box-sizing: border-box;text-align: center;}#sk-container-id-3 label.sk-toggleable__label-arrow:before {content: \"▸\";float: left;margin-right: 0.25em;color: #696969;}#sk-container-id-3 label.sk-toggleable__label-arrow:hover:before {color: black;}#sk-container-id-3 div.sk-estimator:hover label.sk-toggleable__label-arrow:before {color: black;}#sk-container-id-3 div.sk-toggleable__content {max-height: 0;max-width: 0;overflow: hidden;text-align: left;background-color: #f0f8ff;}#sk-container-id-3 div.sk-toggleable__content pre {margin: 0.2em;color: black;border-radius: 0.25em;background-color: #f0f8ff;}#sk-container-id-3 input.sk-toggleable__control:checked~div.sk-toggleable__content {max-height: 200px;max-width: 100%;overflow: auto;}#sk-container-id-3 input.sk-toggleable__control:checked~label.sk-toggleable__label-arrow:before {content: \"▾\";}#sk-container-id-3 div.sk-estimator input.sk-toggleable__control:checked~label.sk-toggleable__label {background-color: #d4ebff;}#sk-container-id-3 div.sk-label input.sk-toggleable__control:checked~label.sk-toggleable__label {background-color: #d4ebff;}#sk-container-id-3 input.sk-hidden--visually {border: 0;clip: rect(1px 1px 1px 1px);clip: rect(1px, 1px, 1px, 1px);height: 1px;margin: -1px;overflow: hidden;padding: 0;position: absolute;width: 1px;}#sk-container-id-3 div.sk-estimator {font-family: monospace;background-color: #f0f8ff;border: 1px dotted black;border-radius: 0.25em;box-sizing: border-box;margin-bottom: 0.5em;}#sk-container-id-3 div.sk-estimator:hover {background-color: #d4ebff;}#sk-container-id-3 div.sk-parallel-item::after {content: \"\";width: 100%;border-bottom: 1px solid gray;flex-grow: 1;}#sk-container-id-3 div.sk-label:hover label.sk-toggleable__label {background-color: #d4ebff;}#sk-container-id-3 div.sk-serial::before {content: \"\";position: absolute;border-left: 1px solid gray;box-sizing: border-box;top: 0;bottom: 0;left: 50%;z-index: 0;}#sk-container-id-3 div.sk-serial {display: flex;flex-direction: column;align-items: center;background-color: white;padding-right: 0.2em;padding-left: 0.2em;position: relative;}#sk-container-id-3 div.sk-item {position: relative;z-index: 1;}#sk-container-id-3 div.sk-parallel {display: flex;align-items: stretch;justify-content: center;background-color: white;position: relative;}#sk-container-id-3 div.sk-item::before, #sk-container-id-3 div.sk-parallel-item::before {content: \"\";position: absolute;border-left: 1px solid gray;box-sizing: border-box;top: 0;bottom: 0;left: 50%;z-index: -1;}#sk-container-id-3 div.sk-parallel-item {display: flex;flex-direction: column;z-index: 1;position: relative;background-color: white;}#sk-container-id-3 div.sk-parallel-item:first-child::after {align-self: flex-end;width: 50%;}#sk-container-id-3 div.sk-parallel-item:last-child::after {align-self: flex-start;width: 50%;}#sk-container-id-3 div.sk-parallel-item:only-child::after {width: 0;}#sk-container-id-3 div.sk-dashed-wrapped {border: 1px dashed gray;margin: 0 0.4em 0.5em 0.4em;box-sizing: border-box;padding-bottom: 0.4em;background-color: white;}#sk-container-id-3 div.sk-label label {font-family: monospace;font-weight: bold;display: inline-block;line-height: 1.2em;}#sk-container-id-3 div.sk-label-container {text-align: center;}#sk-container-id-3 div.sk-container {/* jupyter's `normalize.less` sets `[hidden] { display: none; }` but bootstrap.min.css set `[hidden] { display: none !important; }` so we also need the `!important` here to be able to override the default hidden behavior on the sphinx rendered scikit-learn.org. See: https://github.com/scikit-learn/scikit-learn/issues/21755 */display: inline-block !important;position: relative;}#sk-container-id-3 div.sk-text-repr-fallback {display: none;}</style><div id=\"sk-container-id-3\" class=\"sk-top-container\"><div class=\"sk-text-repr-fallback\"><pre>LinearRegression()</pre><b>In a Jupyter environment, please rerun this cell to show the HTML representation or trust the notebook. <br />On GitHub, the HTML representation is unable to render, please try loading this page with nbviewer.org.</b></div><div class=\"sk-container\" hidden><div class=\"sk-item\"><div class=\"sk-estimator sk-toggleable\"><input class=\"sk-toggleable__control sk-hidden--visually\" id=\"sk-estimator-id-3\" type=\"checkbox\" checked><label for=\"sk-estimator-id-3\" class=\"sk-toggleable__label sk-toggleable__label-arrow\">LinearRegression</label><div class=\"sk-toggleable__content\"><pre>LinearRegression()</pre></div></div></div></div></div>"
      ],
      "text/plain": [
       "LinearRegression()"
      ]
     },
     "execution_count": 20,
     "metadata": {},
     "output_type": "execute_result"
    }
   ],
   "source": [
    "# 필요한 변수 선택 (예시로 선택된 변수들이므로 실제로 사용하는 변수에 맞게 수정 필요)\n",
    "selected_features = ['년', '월', '일', 'Day sin', 'Day cos', '주차', '일교차', '일조율','계절_가을','계절_겨울','계절_봄','계절_여름']\n",
    "target_variable = '평균습도'\n",
    "\n",
    "# 선택된 변수들을 사용하여 훈련 데이터셋 준비\n",
    "train_x = train[selected_features]\n",
    "train_y = train[target_variable]\n",
    "\n",
    "test_x = submission[selected_features]\n",
    "\n",
    "# 모델 정의\n",
    "linear_model = LinearRegression()\n",
    "\n",
    "# 모델 학습\n",
    "linear_model.fit(train_x, train_y)"
   ]
  },
  {
   "cell_type": "code",
   "execution_count": 21,
   "metadata": {},
   "outputs": [],
   "source": [
    "# submission 데이터에서 필요한 변수만 남기기 (평균기온을 예측하기 위한 변수)\n",
    "submission_data = submission[['년', '월', '일', 'Day sin', 'Day cos', '주차', '일교차', '일조율','계절_가을','계절_겨울','계절_봄','계절_여름']]\n",
    "\n",
    "# 예측 수행\n",
    "submission_pred = linear_model.predict(submission_data)"
   ]
  },
  {
   "cell_type": "code",
   "execution_count": 22,
   "metadata": {},
   "outputs": [],
   "source": [
    "submission['평균습도'] = submission_pred"
   ]
  },
  {
   "cell_type": "markdown",
   "metadata": {},
   "source": [
    "강수량 예측"
   ]
  },
  {
   "cell_type": "code",
   "execution_count": 23,
   "metadata": {},
   "outputs": [
    {
     "data": {
      "text/html": [
       "<style>#sk-container-id-4 {color: black;}#sk-container-id-4 pre{padding: 0;}#sk-container-id-4 div.sk-toggleable {background-color: white;}#sk-container-id-4 label.sk-toggleable__label {cursor: pointer;display: block;width: 100%;margin-bottom: 0;padding: 0.3em;box-sizing: border-box;text-align: center;}#sk-container-id-4 label.sk-toggleable__label-arrow:before {content: \"▸\";float: left;margin-right: 0.25em;color: #696969;}#sk-container-id-4 label.sk-toggleable__label-arrow:hover:before {color: black;}#sk-container-id-4 div.sk-estimator:hover label.sk-toggleable__label-arrow:before {color: black;}#sk-container-id-4 div.sk-toggleable__content {max-height: 0;max-width: 0;overflow: hidden;text-align: left;background-color: #f0f8ff;}#sk-container-id-4 div.sk-toggleable__content pre {margin: 0.2em;color: black;border-radius: 0.25em;background-color: #f0f8ff;}#sk-container-id-4 input.sk-toggleable__control:checked~div.sk-toggleable__content {max-height: 200px;max-width: 100%;overflow: auto;}#sk-container-id-4 input.sk-toggleable__control:checked~label.sk-toggleable__label-arrow:before {content: \"▾\";}#sk-container-id-4 div.sk-estimator input.sk-toggleable__control:checked~label.sk-toggleable__label {background-color: #d4ebff;}#sk-container-id-4 div.sk-label input.sk-toggleable__control:checked~label.sk-toggleable__label {background-color: #d4ebff;}#sk-container-id-4 input.sk-hidden--visually {border: 0;clip: rect(1px 1px 1px 1px);clip: rect(1px, 1px, 1px, 1px);height: 1px;margin: -1px;overflow: hidden;padding: 0;position: absolute;width: 1px;}#sk-container-id-4 div.sk-estimator {font-family: monospace;background-color: #f0f8ff;border: 1px dotted black;border-radius: 0.25em;box-sizing: border-box;margin-bottom: 0.5em;}#sk-container-id-4 div.sk-estimator:hover {background-color: #d4ebff;}#sk-container-id-4 div.sk-parallel-item::after {content: \"\";width: 100%;border-bottom: 1px solid gray;flex-grow: 1;}#sk-container-id-4 div.sk-label:hover label.sk-toggleable__label {background-color: #d4ebff;}#sk-container-id-4 div.sk-serial::before {content: \"\";position: absolute;border-left: 1px solid gray;box-sizing: border-box;top: 0;bottom: 0;left: 50%;z-index: 0;}#sk-container-id-4 div.sk-serial {display: flex;flex-direction: column;align-items: center;background-color: white;padding-right: 0.2em;padding-left: 0.2em;position: relative;}#sk-container-id-4 div.sk-item {position: relative;z-index: 1;}#sk-container-id-4 div.sk-parallel {display: flex;align-items: stretch;justify-content: center;background-color: white;position: relative;}#sk-container-id-4 div.sk-item::before, #sk-container-id-4 div.sk-parallel-item::before {content: \"\";position: absolute;border-left: 1px solid gray;box-sizing: border-box;top: 0;bottom: 0;left: 50%;z-index: -1;}#sk-container-id-4 div.sk-parallel-item {display: flex;flex-direction: column;z-index: 1;position: relative;background-color: white;}#sk-container-id-4 div.sk-parallel-item:first-child::after {align-self: flex-end;width: 50%;}#sk-container-id-4 div.sk-parallel-item:last-child::after {align-self: flex-start;width: 50%;}#sk-container-id-4 div.sk-parallel-item:only-child::after {width: 0;}#sk-container-id-4 div.sk-dashed-wrapped {border: 1px dashed gray;margin: 0 0.4em 0.5em 0.4em;box-sizing: border-box;padding-bottom: 0.4em;background-color: white;}#sk-container-id-4 div.sk-label label {font-family: monospace;font-weight: bold;display: inline-block;line-height: 1.2em;}#sk-container-id-4 div.sk-label-container {text-align: center;}#sk-container-id-4 div.sk-container {/* jupyter's `normalize.less` sets `[hidden] { display: none; }` but bootstrap.min.css set `[hidden] { display: none !important; }` so we also need the `!important` here to be able to override the default hidden behavior on the sphinx rendered scikit-learn.org. See: https://github.com/scikit-learn/scikit-learn/issues/21755 */display: inline-block !important;position: relative;}#sk-container-id-4 div.sk-text-repr-fallback {display: none;}</style><div id=\"sk-container-id-4\" class=\"sk-top-container\"><div class=\"sk-text-repr-fallback\"><pre>LinearRegression()</pre><b>In a Jupyter environment, please rerun this cell to show the HTML representation or trust the notebook. <br />On GitHub, the HTML representation is unable to render, please try loading this page with nbviewer.org.</b></div><div class=\"sk-container\" hidden><div class=\"sk-item\"><div class=\"sk-estimator sk-toggleable\"><input class=\"sk-toggleable__control sk-hidden--visually\" id=\"sk-estimator-id-4\" type=\"checkbox\" checked><label for=\"sk-estimator-id-4\" class=\"sk-toggleable__label sk-toggleable__label-arrow\">LinearRegression</label><div class=\"sk-toggleable__content\"><pre>LinearRegression()</pre></div></div></div></div></div>"
      ],
      "text/plain": [
       "LinearRegression()"
      ]
     },
     "execution_count": 23,
     "metadata": {},
     "output_type": "execute_result"
    }
   ],
   "source": [
    "# 필요한 변수 선택 (예시로 선택된 변수들이므로 실제로 사용하는 변수에 맞게 수정 필요)\n",
    "selected_features = ['년', '월', '일', 'Day sin', 'Day cos', '주차', '일교차', '일조율', '평균습도','계절_가을','계절_겨울','계절_봄','계절_여름']\n",
    "target_variable = '강수량'\n",
    "\n",
    "# 선택된 변수들을 사용하여 훈련 데이터셋 준비\n",
    "train_x = train[selected_features]\n",
    "train_y = train[target_variable]\n",
    "\n",
    "test_x = submission[selected_features]\n",
    "\n",
    "# 모델 정의\n",
    "linear_model = LinearRegression()\n",
    "\n",
    "# 모델 학습\n",
    "linear_model.fit(train_x, train_y)"
   ]
  },
  {
   "cell_type": "code",
   "execution_count": 24,
   "metadata": {},
   "outputs": [],
   "source": [
    "# submission 데이터에서 필요한 변수만 남기기 (평균기온을 예측하기 위한 변수)\n",
    "submission_data = submission[['년', '월', '일', 'Day sin', 'Day cos', '주차', '일교차', '일조율', '평균습도','계절_가을','계절_겨울','계절_봄','계절_여름']]\n",
    "\n",
    "# 예측 수행\n",
    "submission_pred = linear_model.predict(submission_data)"
   ]
  },
  {
   "cell_type": "code",
   "execution_count": 25,
   "metadata": {},
   "outputs": [],
   "source": [
    "submission['강수량'] = submission_pred"
   ]
  },
  {
   "cell_type": "code",
   "execution_count": 26,
   "metadata": {},
   "outputs": [
    {
     "data": {
      "text/html": [
       "<div>\n",
       "<style scoped>\n",
       "    .dataframe tbody tr th:only-of-type {\n",
       "        vertical-align: middle;\n",
       "    }\n",
       "\n",
       "    .dataframe tbody tr th {\n",
       "        vertical-align: top;\n",
       "    }\n",
       "\n",
       "    .dataframe thead th {\n",
       "        text-align: right;\n",
       "    }\n",
       "</style>\n",
       "<table border=\"1\" class=\"dataframe\">\n",
       "  <thead>\n",
       "    <tr style=\"text-align: right;\">\n",
       "      <th></th>\n",
       "      <th>일시</th>\n",
       "      <th>평균기온</th>\n",
       "      <th>년</th>\n",
       "      <th>월</th>\n",
       "      <th>일</th>\n",
       "      <th>Day sin</th>\n",
       "      <th>Day cos</th>\n",
       "      <th>주차</th>\n",
       "      <th>계절_가을</th>\n",
       "      <th>계절_겨울</th>\n",
       "      <th>계절_봄</th>\n",
       "      <th>계절_여름</th>\n",
       "      <th>일교차</th>\n",
       "      <th>일조율</th>\n",
       "      <th>평균습도</th>\n",
       "      <th>강수량</th>\n",
       "    </tr>\n",
       "  </thead>\n",
       "  <tbody>\n",
       "    <tr>\n",
       "      <th>0</th>\n",
       "      <td>2023-01-01</td>\n",
       "      <td>0</td>\n",
       "      <td>2023</td>\n",
       "      <td>1</td>\n",
       "      <td>1</td>\n",
       "      <td>1.754990e-02</td>\n",
       "      <td>0.999846</td>\n",
       "      <td>52</td>\n",
       "      <td>False</td>\n",
       "      <td>True</td>\n",
       "      <td>False</td>\n",
       "      <td>False</td>\n",
       "      <td>7.414200</td>\n",
       "      <td>55.306820</td>\n",
       "      <td>55.349400</td>\n",
       "      <td>3.010066</td>\n",
       "    </tr>\n",
       "    <tr>\n",
       "      <th>1</th>\n",
       "      <td>2023-01-02</td>\n",
       "      <td>0</td>\n",
       "      <td>2023</td>\n",
       "      <td>1</td>\n",
       "      <td>2</td>\n",
       "      <td>3.509439e-02</td>\n",
       "      <td>0.999384</td>\n",
       "      <td>1</td>\n",
       "      <td>False</td>\n",
       "      <td>True</td>\n",
       "      <td>False</td>\n",
       "      <td>False</td>\n",
       "      <td>7.103495</td>\n",
       "      <td>55.701545</td>\n",
       "      <td>56.868829</td>\n",
       "      <td>4.179560</td>\n",
       "    </tr>\n",
       "    <tr>\n",
       "      <th>2</th>\n",
       "      <td>2023-01-03</td>\n",
       "      <td>0</td>\n",
       "      <td>2023</td>\n",
       "      <td>1</td>\n",
       "      <td>3</td>\n",
       "      <td>5.262807e-02</td>\n",
       "      <td>0.998614</td>\n",
       "      <td>1</td>\n",
       "      <td>False</td>\n",
       "      <td>True</td>\n",
       "      <td>False</td>\n",
       "      <td>False</td>\n",
       "      <td>7.125985</td>\n",
       "      <td>55.792151</td>\n",
       "      <td>56.721700</td>\n",
       "      <td>4.102264</td>\n",
       "    </tr>\n",
       "    <tr>\n",
       "      <th>3</th>\n",
       "      <td>2023-01-04</td>\n",
       "      <td>0</td>\n",
       "      <td>2023</td>\n",
       "      <td>1</td>\n",
       "      <td>4</td>\n",
       "      <td>7.014554e-02</td>\n",
       "      <td>0.997537</td>\n",
       "      <td>1</td>\n",
       "      <td>False</td>\n",
       "      <td>True</td>\n",
       "      <td>False</td>\n",
       "      <td>False</td>\n",
       "      <td>7.148689</td>\n",
       "      <td>55.881660</td>\n",
       "      <td>56.575837</td>\n",
       "      <td>4.026416</td>\n",
       "    </tr>\n",
       "    <tr>\n",
       "      <th>4</th>\n",
       "      <td>2023-01-05</td>\n",
       "      <td>0</td>\n",
       "      <td>2023</td>\n",
       "      <td>1</td>\n",
       "      <td>5</td>\n",
       "      <td>8.764140e-02</td>\n",
       "      <td>0.996152</td>\n",
       "      <td>1</td>\n",
       "      <td>False</td>\n",
       "      <td>True</td>\n",
       "      <td>False</td>\n",
       "      <td>False</td>\n",
       "      <td>7.171598</td>\n",
       "      <td>55.970049</td>\n",
       "      <td>56.431280</td>\n",
       "      <td>3.952039</td>\n",
       "    </tr>\n",
       "    <tr>\n",
       "      <th>...</th>\n",
       "      <td>...</td>\n",
       "      <td>...</td>\n",
       "      <td>...</td>\n",
       "      <td>...</td>\n",
       "      <td>...</td>\n",
       "      <td>...</td>\n",
       "      <td>...</td>\n",
       "      <td>...</td>\n",
       "      <td>...</td>\n",
       "      <td>...</td>\n",
       "      <td>...</td>\n",
       "      <td>...</td>\n",
       "      <td>...</td>\n",
       "      <td>...</td>\n",
       "      <td>...</td>\n",
       "      <td>...</td>\n",
       "    </tr>\n",
       "    <tr>\n",
       "      <th>353</th>\n",
       "      <td>2023-12-20</td>\n",
       "      <td>0</td>\n",
       "      <td>2023</td>\n",
       "      <td>12</td>\n",
       "      <td>20</td>\n",
       "      <td>-7.014554e-02</td>\n",
       "      <td>0.997537</td>\n",
       "      <td>51</td>\n",
       "      <td>False</td>\n",
       "      <td>True</td>\n",
       "      <td>False</td>\n",
       "      <td>False</td>\n",
       "      <td>7.712649</td>\n",
       "      <td>55.291444</td>\n",
       "      <td>54.199398</td>\n",
       "      <td>1.619453</td>\n",
       "    </tr>\n",
       "    <tr>\n",
       "      <th>354</th>\n",
       "      <td>2023-12-21</td>\n",
       "      <td>0</td>\n",
       "      <td>2023</td>\n",
       "      <td>12</td>\n",
       "      <td>21</td>\n",
       "      <td>-5.262807e-02</td>\n",
       "      <td>0.998614</td>\n",
       "      <td>51</td>\n",
       "      <td>False</td>\n",
       "      <td>True</td>\n",
       "      <td>False</td>\n",
       "      <td>False</td>\n",
       "      <td>7.733717</td>\n",
       "      <td>55.388098</td>\n",
       "      <td>54.045518</td>\n",
       "      <td>1.533961</td>\n",
       "    </tr>\n",
       "    <tr>\n",
       "      <th>355</th>\n",
       "      <td>2023-12-22</td>\n",
       "      <td>0</td>\n",
       "      <td>2023</td>\n",
       "      <td>12</td>\n",
       "      <td>22</td>\n",
       "      <td>-3.509439e-02</td>\n",
       "      <td>0.999384</td>\n",
       "      <td>51</td>\n",
       "      <td>False</td>\n",
       "      <td>True</td>\n",
       "      <td>False</td>\n",
       "      <td>False</td>\n",
       "      <td>7.755039</td>\n",
       "      <td>55.483807</td>\n",
       "      <td>53.892661</td>\n",
       "      <td>1.449773</td>\n",
       "    </tr>\n",
       "    <tr>\n",
       "      <th>356</th>\n",
       "      <td>2023-12-23</td>\n",
       "      <td>0</td>\n",
       "      <td>2023</td>\n",
       "      <td>12</td>\n",
       "      <td>23</td>\n",
       "      <td>-1.754990e-02</td>\n",
       "      <td>0.999846</td>\n",
       "      <td>51</td>\n",
       "      <td>False</td>\n",
       "      <td>True</td>\n",
       "      <td>False</td>\n",
       "      <td>False</td>\n",
       "      <td>7.776609</td>\n",
       "      <td>55.578548</td>\n",
       "      <td>53.740867</td>\n",
       "      <td>1.366915</td>\n",
       "    </tr>\n",
       "    <tr>\n",
       "      <th>357</th>\n",
       "      <td>2023-12-24</td>\n",
       "      <td>0</td>\n",
       "      <td>2023</td>\n",
       "      <td>12</td>\n",
       "      <td>24</td>\n",
       "      <td>-2.449294e-16</td>\n",
       "      <td>1.000000</td>\n",
       "      <td>51</td>\n",
       "      <td>False</td>\n",
       "      <td>True</td>\n",
       "      <td>False</td>\n",
       "      <td>False</td>\n",
       "      <td>7.798418</td>\n",
       "      <td>55.672292</td>\n",
       "      <td>53.590178</td>\n",
       "      <td>1.285412</td>\n",
       "    </tr>\n",
       "  </tbody>\n",
       "</table>\n",
       "<p>358 rows × 16 columns</p>\n",
       "</div>"
      ],
      "text/plain": [
       "            일시  평균기온     년   월   일       Day sin   Day cos  주차  계절_가을  계절_겨울  \\\n",
       "0   2023-01-01     0  2023   1   1  1.754990e-02  0.999846  52  False   True   \n",
       "1   2023-01-02     0  2023   1   2  3.509439e-02  0.999384   1  False   True   \n",
       "2   2023-01-03     0  2023   1   3  5.262807e-02  0.998614   1  False   True   \n",
       "3   2023-01-04     0  2023   1   4  7.014554e-02  0.997537   1  False   True   \n",
       "4   2023-01-05     0  2023   1   5  8.764140e-02  0.996152   1  False   True   \n",
       "..         ...   ...   ...  ..  ..           ...       ...  ..    ...    ...   \n",
       "353 2023-12-20     0  2023  12  20 -7.014554e-02  0.997537  51  False   True   \n",
       "354 2023-12-21     0  2023  12  21 -5.262807e-02  0.998614  51  False   True   \n",
       "355 2023-12-22     0  2023  12  22 -3.509439e-02  0.999384  51  False   True   \n",
       "356 2023-12-23     0  2023  12  23 -1.754990e-02  0.999846  51  False   True   \n",
       "357 2023-12-24     0  2023  12  24 -2.449294e-16  1.000000  51  False   True   \n",
       "\n",
       "      계절_봄  계절_여름       일교차        일조율       평균습도       강수량  \n",
       "0    False  False  7.414200  55.306820  55.349400  3.010066  \n",
       "1    False  False  7.103495  55.701545  56.868829  4.179560  \n",
       "2    False  False  7.125985  55.792151  56.721700  4.102264  \n",
       "3    False  False  7.148689  55.881660  56.575837  4.026416  \n",
       "4    False  False  7.171598  55.970049  56.431280  3.952039  \n",
       "..     ...    ...       ...        ...        ...       ...  \n",
       "353  False  False  7.712649  55.291444  54.199398  1.619453  \n",
       "354  False  False  7.733717  55.388098  54.045518  1.533961  \n",
       "355  False  False  7.755039  55.483807  53.892661  1.449773  \n",
       "356  False  False  7.776609  55.578548  53.740867  1.366915  \n",
       "357  False  False  7.798418  55.672292  53.590178  1.285412  \n",
       "\n",
       "[358 rows x 16 columns]"
      ]
     },
     "execution_count": 26,
     "metadata": {},
     "output_type": "execute_result"
    }
   ],
   "source": [
    "submission"
   ]
  },
  {
   "cell_type": "markdown",
   "metadata": {},
   "source": [
    "평균기온 예측"
   ]
  },
  {
   "cell_type": "code",
   "execution_count": 27,
   "metadata": {},
   "outputs": [
    {
     "name": "stdout",
     "output_type": "stream",
     "text": [
      "0:\tlearn: 10.3965038\ttotal: 96.3ms\tremaining: 1m 36s\n",
      "999:\tlearn: 2.2998439\ttotal: 14.7s\tremaining: 0us\n"
     ]
    },
    {
     "data": {
      "text/plain": [
       "<catboost.core.CatBoostRegressor at 0x1fd910c1410>"
      ]
     },
     "execution_count": 27,
     "metadata": {},
     "output_type": "execute_result"
    }
   ],
   "source": [
    "# 필요한 변수 선택 (예시로 선택된 변수들이므로 실제로 사용하는 변수에 맞게 수정 필요)\n",
    "selected_features = ['년', '월', '일', 'Day sin', 'Day cos', '주차', '일교차', '일조율', '평균습도', '강수량','계절_가을','계절_겨울','계절_봄','계절_여름']\n",
    "target_variable = '평균기온'\n",
    "\n",
    "# 선택된 변수들을 사용하여 훈련 데이터셋 준비\n",
    "train_x = train[selected_features]\n",
    "train_y = train[target_variable]\n",
    "\n",
    "test_x = submission[selected_features]\n",
    "\n",
    "# 모델 정의 (verbose 값을 metric_period의 배수로 설정)\n",
    "cat = CatBoostRegressor(random_state=2024,\n",
    "                        n_estimators=1000,\n",
    "                        learning_rate=0.01,\n",
    "                        depth=10,\n",
    "                        l2_leaf_reg=3,\n",
    "                        metric_period=1000,\n",
    "                        verbose=1000)  # verbose를 metric_period의 배수로 설정\n",
    "\n",
    "# 모델 학습\n",
    "cat.fit(train_x, train_y)"
   ]
  },
  {
   "cell_type": "code",
   "execution_count": 28,
   "metadata": {},
   "outputs": [],
   "source": [
    "# submission 데이터에서 필요한 변수만 남기기 (평균기온을 예측하기 위한 변수)\n",
    "submission_data = submission[['년', '월', '일', 'Day sin', 'Day cos', '주차', '일교차', '일조율', '평균습도', '강수량','계절_가을','계절_겨울','계절_봄','계절_여름']]\n",
    "\n",
    "# 예측 수행\n",
    "submission_pred = cat.predict(submission_data)"
   ]
  },
  {
   "cell_type": "code",
   "execution_count": 29,
   "metadata": {},
   "outputs": [],
   "source": [
    "submission = pd.read_csv('./sample_submission.csv')\n",
    "submission['평균기온']=submission_pred"
   ]
  },
  {
   "cell_type": "code",
   "execution_count": 30,
   "metadata": {},
   "outputs": [
    {
     "data": {
      "text/html": [
       "<div>\n",
       "<style scoped>\n",
       "    .dataframe tbody tr th:only-of-type {\n",
       "        vertical-align: middle;\n",
       "    }\n",
       "\n",
       "    .dataframe tbody tr th {\n",
       "        vertical-align: top;\n",
       "    }\n",
       "\n",
       "    .dataframe thead th {\n",
       "        text-align: right;\n",
       "    }\n",
       "</style>\n",
       "<table border=\"1\" class=\"dataframe\">\n",
       "  <thead>\n",
       "    <tr style=\"text-align: right;\">\n",
       "      <th></th>\n",
       "      <th>일시</th>\n",
       "      <th>평균기온</th>\n",
       "    </tr>\n",
       "  </thead>\n",
       "  <tbody>\n",
       "    <tr>\n",
       "      <th>0</th>\n",
       "      <td>2023-01-01</td>\n",
       "      <td>-2.017629</td>\n",
       "    </tr>\n",
       "    <tr>\n",
       "      <th>1</th>\n",
       "      <td>2023-01-02</td>\n",
       "      <td>-2.163352</td>\n",
       "    </tr>\n",
       "    <tr>\n",
       "      <th>2</th>\n",
       "      <td>2023-01-03</td>\n",
       "      <td>-2.191540</td>\n",
       "    </tr>\n",
       "    <tr>\n",
       "      <th>3</th>\n",
       "      <td>2023-01-04</td>\n",
       "      <td>-2.368568</td>\n",
       "    </tr>\n",
       "    <tr>\n",
       "      <th>4</th>\n",
       "      <td>2023-01-05</td>\n",
       "      <td>-2.601113</td>\n",
       "    </tr>\n",
       "    <tr>\n",
       "      <th>...</th>\n",
       "      <td>...</td>\n",
       "      <td>...</td>\n",
       "    </tr>\n",
       "    <tr>\n",
       "      <th>353</th>\n",
       "      <td>2023-12-20</td>\n",
       "      <td>-2.059405</td>\n",
       "    </tr>\n",
       "    <tr>\n",
       "      <th>354</th>\n",
       "      <td>2023-12-21</td>\n",
       "      <td>-2.065289</td>\n",
       "    </tr>\n",
       "    <tr>\n",
       "      <th>355</th>\n",
       "      <td>2023-12-22</td>\n",
       "      <td>-2.201757</td>\n",
       "    </tr>\n",
       "    <tr>\n",
       "      <th>356</th>\n",
       "      <td>2023-12-23</td>\n",
       "      <td>-2.343042</td>\n",
       "    </tr>\n",
       "    <tr>\n",
       "      <th>357</th>\n",
       "      <td>2023-12-24</td>\n",
       "      <td>-2.443244</td>\n",
       "    </tr>\n",
       "  </tbody>\n",
       "</table>\n",
       "<p>358 rows × 2 columns</p>\n",
       "</div>"
      ],
      "text/plain": [
       "             일시      평균기온\n",
       "0    2023-01-01 -2.017629\n",
       "1    2023-01-02 -2.163352\n",
       "2    2023-01-03 -2.191540\n",
       "3    2023-01-04 -2.368568\n",
       "4    2023-01-05 -2.601113\n",
       "..          ...       ...\n",
       "353  2023-12-20 -2.059405\n",
       "354  2023-12-21 -2.065289\n",
       "355  2023-12-22 -2.201757\n",
       "356  2023-12-23 -2.343042\n",
       "357  2023-12-24 -2.443244\n",
       "\n",
       "[358 rows x 2 columns]"
      ]
     },
     "execution_count": 30,
     "metadata": {},
     "output_type": "execute_result"
    }
   ],
   "source": [
    "submission"
   ]
  },
  {
   "cell_type": "code",
   "execution_count": 31,
   "metadata": {},
   "outputs": [],
   "source": [
    "submission.to_csv('catboost6.csv', index=False)"
   ]
  }
 ],
 "metadata": {
  "kernelspec": {
   "display_name": "Python 3 (ipykernel)",
   "language": "python",
   "name": "python3"
  },
  "language_info": {
   "codemirror_mode": {
    "name": "ipython",
    "version": 3
   },
   "file_extension": ".py",
   "mimetype": "text/x-python",
   "name": "python",
   "nbconvert_exporter": "python",
   "pygments_lexer": "ipython3",
   "version": "3.11.5"
  }
 },
 "nbformat": 4,
 "nbformat_minor": 2
}
